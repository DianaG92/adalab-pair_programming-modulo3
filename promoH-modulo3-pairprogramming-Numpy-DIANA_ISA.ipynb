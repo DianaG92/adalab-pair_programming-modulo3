{
 "cells": [
  {
   "cell_type": "markdown",
   "metadata": {},
   "source": [
    "## Pair Programming Numpy"
   ]
  },
  {
   "cell_type": "markdown",
   "metadata": {},
   "source": [
    "**Creación y Indexación:**"
   ]
  },
  {
   "cell_type": "markdown",
   "metadata": {},
   "source": [
    "1. Crea un array 1D con 50 valores aleatorio del 10 al 99. Accede a los elementos en las posiciones múltiplos de 5."
   ]
  },
  {
   "cell_type": "code",
   "execution_count": 9,
   "metadata": {},
   "outputs": [
    {
     "name": "stdout",
     "output_type": "stream",
     "text": [
      "[47 72 33 71 15 34 93 64 83 33 22 16 46 13 38 65 65 21 97 79 25 46 11 87\n",
      " 52 21 23 74 38 37 59 53 71 76 50 91 25 89 95 70 89 97 79 83 69 36 85 54\n",
      " 68 27]\n",
      "Los elementos en las posiciones multiplos de 5 del array son: [47 34 22 65 25 21 59 91 89 36]\n"
     ]
    }
   ],
   "source": [
    "import numpy as np\n",
    "\n",
    "array1 = np.random.randint(10, 99, size=50)\n",
    "\n",
    "print(array1)\n",
    "\n",
    "print(f\"Los elementos en las posiciones multiplos de 5 del array son: {array1[::5]}\")"
   ]
  },
  {
   "cell_type": "markdown",
   "metadata": {},
   "source": [
    "2. Crea un array 1D con 30 valores del 1 al 20 (ambos incluidos). Utiliza indexación para obtener los elementos en las posiciones impares."
   ]
  },
  {
   "cell_type": "code",
   "execution_count": 10,
   "metadata": {},
   "outputs": [
    {
     "name": "stdout",
     "output_type": "stream",
     "text": [
      "[16  7  3 18 14  7 17 15 20  1 19 15  8  9  5  4 15  7  3 13 18 16  2  7\n",
      "  4  4  7  5 12  2]\n",
      "Los elementos en las posiciones impares son: [ 7 18  7 15  1 15  9  4  7 13 16  7  4  5  2]\n"
     ]
    }
   ],
   "source": [
    "array2 = np.random.randint(1, 21, size=30)\n",
    "\n",
    "print(array2)\n",
    "\n",
    "print(f\"Los elementos en las posiciones impares son: {array2[1::2]}\")"
   ]
  },
  {
   "cell_type": "markdown",
   "metadata": {},
   "source": [
    "3. Crea un array 2D de forma (4, 6) con números aleatorios decimales (no deben estar comprendidos solo entre 0 y 1). Accede a la última fila de la matriz. Los decimales deben estar redondeados a 2 decimales."
   ]
  },
  {
   "cell_type": "code",
   "execution_count": 15,
   "metadata": {},
   "outputs": [
    {
     "name": "stdout",
     "output_type": "stream",
     "text": [
      "[[0.87 0.69 0.67 0.77 0.89 0.81]\n",
      " [0.33 0.08 0.37 0.18 0.71 0.75]\n",
      " [0.45 0.19 0.13 0.86 0.92 0.97]\n",
      " [0.27 0.74 0.87 0.57 0.27 0.82]]\n"
     ]
    },
    {
     "data": {
      "text/plain": [
       "array([0.27, 0.74, 0.87, 0.57, 0.27, 0.82])"
      ]
     },
     "execution_count": 15,
     "metadata": {},
     "output_type": "execute_result"
    }
   ],
   "source": [
    "array3 = np.random.random_sample((4,6))\n",
    "\n",
    "array3_redondeado = np.round(array3, 2)\n",
    "\n",
    "print(array3_redondeado)\n",
    "\n",
    "array3_redondeado[3]"
   ]
  },
  {
   "cell_type": "markdown",
   "metadata": {},
   "source": [
    "4. **BONUS:** Crea un array 3D de forma (2, 3, 5) y 30 elementos con números enteros entre 0 y 100 (ambos incluidos). Reemplaza los elementos en posiciones múltiplos de 3 por 0."
   ]
  },
  {
   "cell_type": "code",
   "execution_count": 12,
   "metadata": {},
   "outputs": [
    {
     "name": "stdout",
     "output_type": "stream",
     "text": [
      "El array que vamos a utilizar es: \n",
      "[[[10 86 25 42 81]\n",
      "  [26 74 25 61 95]\n",
      "  [36 59 21  2 62]]\n",
      "\n",
      " [[57 64 50 69 18]\n",
      "  [96 61 60 47 10]\n",
      "  [18 35 31 73 22]]]\n",
      "\n",
      "El nuevo array es: \n",
      "[[[ 0 86 25  0 81]\n",
      "  [26  0 25 61  0]\n",
      "  [36 59  0  2 62]]\n",
      "\n",
      " [[ 0 64 50  0 18]\n",
      "  [96  0 60 47  0]\n",
      "  [18 35  0 73 22]]]\n"
     ]
    }
   ],
   "source": [
    "import numpy as np\n",
    "\n",
    "array4 = np.random.randint(0, 101, (2, 3, 5))\n",
    "\n",
    "print(f\"El array que vamos a utilizar es: \\n{array4}\\n\")\n",
    "\n",
    "array4_flat = array4.flatten()\n",
    "array4_flat[::3] = 0\n",
    "array4 = array4_flat.reshape(2, 3, 5)\n",
    "\n",
    "print(f\"El nuevo array es: \\n{array4}\")"
   ]
  },
  {
   "cell_type": "markdown",
   "metadata": {},
   "source": [
    "**Reshape y Transpose:**"
   ]
  },
  {
   "cell_type": "markdown",
   "metadata": {},
   "source": [
    "##### Ejercicios con reshape:"
   ]
  },
  {
   "cell_type": "markdown",
   "metadata": {},
   "source": [
    "1. Crea un array 3D de forma (2, 3, 4) con valores aleatorios entre 1 y 100 (ambos inclusive). Utiliza reshape para convertirlo en un array 2D. Deberás pensar en la forma que es correcta para hacer este cambio."
   ]
  },
  {
   "cell_type": "code",
   "execution_count": 24,
   "metadata": {},
   "outputs": [
    {
     "name": "stdout",
     "output_type": "stream",
     "text": [
      "[[[72 85 22 69]\n",
      "  [53 26 61 11]\n",
      "  [98 86 46  9]]\n",
      "\n",
      " [[15 98  8 49]\n",
      "  [84 78 29 51]\n",
      "  [92 82 73 76]]]\n",
      "\n",
      "[[72 85 22 69 53 26]\n",
      " [61 11 98 86 46  9]\n",
      " [15 98  8 49 84 78]\n",
      " [29 51 92 82 73 76]]\n"
     ]
    }
   ],
   "source": [
    "array5 = np.random.randint(1, 101, (2, 3, 4))\n",
    "\n",
    "print(f\"{array5}\\n\")\n",
    "\n",
    "array_cambiado = np.reshape(array5, (4, 6))\n",
    "\n",
    "print(array_cambiado)"
   ]
  },
  {
   "cell_type": "markdown",
   "metadata": {},
   "source": [
    "2. Crea un array 3D de forma (3, 4, 5) con valores enteros del 1 al 61 (sin incluir). Utiliza reshape para convertirlo en un array 2D."
   ]
  },
  {
   "cell_type": "code",
   "execution_count": 26,
   "metadata": {},
   "outputs": [
    {
     "name": "stdout",
     "output_type": "stream",
     "text": [
      "[[[47 22  6 27  7]\n",
      "  [12 22 29 33 44]\n",
      "  [41 55 37 60  8]\n",
      "  [37  7 58  3 33]]\n",
      "\n",
      " [[25 58  5 12 45]\n",
      "  [50 46 21 35 22]\n",
      "  [10 57 18 52 17]\n",
      "  [24 17 18 32 40]]\n",
      "\n",
      " [[13 47 28 41 46]\n",
      "  [45 38 59  9 14]\n",
      "  [40 38 14 50 15]\n",
      "  [54  8 50 44 27]]]\n",
      "\n",
      "[[47 22  6 27  7 12 22 29 33 44]\n",
      " [41 55 37 60  8 37  7 58  3 33]\n",
      " [25 58  5 12 45 50 46 21 35 22]\n",
      " [10 57 18 52 17 24 17 18 32 40]\n",
      " [13 47 28 41 46 45 38 59  9 14]\n",
      " [40 38 14 50 15 54  8 50 44 27]]\n"
     ]
    }
   ],
   "source": [
    "array6 = np.random.randint(1, 61, (3, 4, 5))\n",
    "\n",
    "print(f\"{array6}\\n\")\n",
    "\n",
    "array_cambiado = np.reshape(array6, (6, 10))\n",
    "\n",
    "print(array_cambiado)"
   ]
  },
  {
   "cell_type": "markdown",
   "metadata": {},
   "source": [
    "##### Ejercicios con transpose:"
   ]
  },
  {
   "cell_type": "markdown",
   "metadata": {},
   "source": [
    "3. Utiliza el array 3D del ejercicio 2 de reshape. Utiliza transpose para permutar los ejes y obtener un nuevo array con forma (5, 4, 3)."
   ]
  },
  {
   "cell_type": "code",
   "execution_count": 40,
   "metadata": {},
   "outputs": [
    {
     "name": "stdout",
     "output_type": "stream",
     "text": [
      "El array con el que vamos a trabajar es: \n",
      "[[[47 22  6 27  7]\n",
      "  [12 22 29 33 44]\n",
      "  [41 55 37 60  8]\n",
      "  [37  7 58  3 33]]\n",
      "\n",
      " [[25 58  5 12 45]\n",
      "  [50 46 21 35 22]\n",
      "  [10 57 18 52 17]\n",
      "  [24 17 18 32 40]]\n",
      "\n",
      " [[13 47 28 41 46]\n",
      "  [45 38 59  9 14]\n",
      "  [40 38 14 50 15]\n",
      "  [54  8 50 44 27]]]\n",
      "\n",
      "El nuevo array transpuesto con forma (5, 4, 3) es: \n",
      "[[[47 25 13]\n",
      "  [12 50 45]\n",
      "  [41 10 40]\n",
      "  [37 24 54]]\n",
      "\n",
      " [[22 58 47]\n",
      "  [22 46 38]\n",
      "  [55 57 38]\n",
      "  [ 7 17  8]]\n",
      "\n",
      " [[ 6  5 28]\n",
      "  [29 21 59]\n",
      "  [37 18 14]\n",
      "  [58 18 50]]\n",
      "\n",
      " [[27 12 41]\n",
      "  [33 35  9]\n",
      "  [60 52 50]\n",
      "  [ 3 32 44]]\n",
      "\n",
      " [[ 7 45 46]\n",
      "  [44 22 14]\n",
      "  [ 8 17 15]\n",
      "  [33 40 27]]]\n"
     ]
    }
   ],
   "source": [
    "print(f\"El array con el que vamos a trabajar es: \\n{array6}\\n\")\n",
    "\n",
    "nuevo_array = np.transpose(array6, axes=(2, 1, 0))\n",
    "\n",
    "print(f\"El nuevo array transpuesto con forma (5, 4, 3) es: \\n{nuevo_array}\")"
   ]
  },
  {
   "cell_type": "markdown",
   "metadata": {},
   "source": [
    "4. Utiliza el array 3D del ejercicio 2 de reshape. Utiliza transpose para cambiar el orden de los ejes y obtener un nuevo array con forma (3, 5, 4)."
   ]
  },
  {
   "cell_type": "code",
   "execution_count": 42,
   "metadata": {},
   "outputs": [
    {
     "name": "stdout",
     "output_type": "stream",
     "text": [
      "El array con el que vamos a trabajar es: \n",
      "[[[47 22  6 27  7]\n",
      "  [12 22 29 33 44]\n",
      "  [41 55 37 60  8]\n",
      "  [37  7 58  3 33]]\n",
      "\n",
      " [[25 58  5 12 45]\n",
      "  [50 46 21 35 22]\n",
      "  [10 57 18 52 17]\n",
      "  [24 17 18 32 40]]\n",
      "\n",
      " [[13 47 28 41 46]\n",
      "  [45 38 59  9 14]\n",
      "  [40 38 14 50 15]\n",
      "  [54  8 50 44 27]]]\n",
      "\n",
      "El nuevo array transpuesto con forma (3, 5, 4) es: \n",
      "[[[47 12 41 37]\n",
      "  [22 22 55  7]\n",
      "  [ 6 29 37 58]\n",
      "  [27 33 60  3]\n",
      "  [ 7 44  8 33]]\n",
      "\n",
      " [[25 50 10 24]\n",
      "  [58 46 57 17]\n",
      "  [ 5 21 18 18]\n",
      "  [12 35 52 32]\n",
      "  [45 22 17 40]]\n",
      "\n",
      " [[13 45 40 54]\n",
      "  [47 38 38  8]\n",
      "  [28 59 14 50]\n",
      "  [41  9 50 44]\n",
      "  [46 14 15 27]]]\n"
     ]
    }
   ],
   "source": [
    "print(f\"El array con el que vamos a trabajar es: \\n{array6}\\n\")\n",
    "\n",
    "nuevo_array = np.transpose(array6, axes=(0, 2, 1))\n",
    "\n",
    "print(f\"El nuevo array transpuesto con forma (3, 5, 4) es: \\n{nuevo_array}\")"
   ]
  },
  {
   "cell_type": "markdown",
   "metadata": {},
   "source": [
    "##### Preguntas teóricas:"
   ]
  },
  {
   "cell_type": "markdown",
   "metadata": {},
   "source": [
    "5. ¿Qué diferencia existe entre el reshape y el transpose?"
   ]
  },
  {
   "cell_type": "markdown",
   "metadata": {},
   "source": [
    "`np.transpose()`: Es una función de la biblioteca NumPy que se utiliza para intercambiar las dimensiones de un *array*. Toma como argumento un *array* y devuelve un nuevo *array* con las dimensiones intercambiadas.\n",
    "\n",
    "`np.reshape()`: Es una función de NumPy que se utiliza para cambiar la forma de un *array* sin cambiar sus datos subyacentes. Permite reorganizar los elementos de un *array* en una nueva forma especificada por el usuario."
   ]
  },
  {
   "cell_type": "markdown",
   "metadata": {},
   "source": [
    "6. ¿Y entre el transpose y el swapaxes?"
   ]
  },
  {
   "cell_type": "markdown",
   "metadata": {},
   "source": [
    "`np.transpose()`: Es una función de la biblioteca NumPy que se utiliza para intercambiar las dimensiones de un *array*. Toma como argumento un *array* y devuelve un nuevo *array* con las dimensiones intercambiadas.\n",
    "\n",
    "`np.swapaxes()`: Es un método de Numpy que se utiliza para intercambiar dos ejes (dimensiones) específicos de un *array*. Permite reorganizar los ejes de un *array* sin cambiar los datos subyacentes."
   ]
  },
  {
   "cell_type": "markdown",
   "metadata": {},
   "source": [
    "**Funciones Aritméticas y Estadísticas:**"
   ]
  },
  {
   "cell_type": "markdown",
   "metadata": {},
   "source": [
    "1. Crea un array de tres 3D con elementos entre el 0 y 1 de forma (2, 3, 5) cuyos valores solo tengan 1 decimal."
   ]
  },
  {
   "cell_type": "code",
   "execution_count": 27,
   "metadata": {},
   "outputs": [
    {
     "name": "stdout",
     "output_type": "stream",
     "text": [
      "[[[0.3 0.7 0.  0.1 0.7]\n",
      "  [0.9 0.7 0.1 0.  0.3]\n",
      "  [0.2 0.7 0.1 0.4 0.3]]\n",
      "\n",
      " [[0.7 0.5 0.5 0.5 0.5]\n",
      "  [0.4 0.3 0.9 0.1 0.6]\n",
      "  [0.9 0.7 0.7 0.3 0.3]]]\n"
     ]
    }
   ],
   "source": [
    "array7 = np.random.rand(2, 3, 5)\n",
    "\n",
    "array_redondeado = np.round(array7, 1)\n",
    "\n",
    "print(f\"{array_redondeado}\")"
   ]
  },
  {
   "cell_type": "markdown",
   "metadata": {},
   "source": [
    "2. Crea un array vacío con la misma forma y dimensiones que el array creado anteriormente. Vamos a reemplazar los valores de la matriz vacía que nos acabamos de crear pero basándonos en los valores del primer array bajo las siguientes condiciones:\n",
    "\n",
    "- Si el valor del array es igual que la media, se reemplaza por \"A\".\n",
    "\n",
    "- Si el valor del array es mayor que la media, se reemplaza por \"B\".\n",
    "\n",
    "- Si el valor del array es menor que la media, se reemplaza por \"C\".\n",
    "\n",
    "- Si el valor es igual que el máximo, se reemplaza por \"D\".\n",
    "\n",
    "- Si el valor es igual que el mínimo, se reemplaza por \"E\"."
   ]
  },
  {
   "cell_type": "code",
   "execution_count": 44,
   "metadata": {},
   "outputs": [
    {
     "name": "stdout",
     "output_type": "stream",
     "text": [
      "La media es: 0.44157775088371365\n",
      "El valor maximo es: 0.9326382035796769\n",
      "El valor minimo es: 0.025227196097870497\n",
      "----------------------------------------\n",
      "El nuevo array es:\n",
      " [[['C' 'B' 'E' 'C' 'B']\n",
      "  ['D' 'B' 'C' 'C' 'C']\n",
      "  ['C' 'B' 'C' 'C' 'C']]\n",
      "\n",
      " [['B' 'B' 'B' 'B' 'B']\n",
      "  ['C' 'C' 'B' 'C' 'B']\n",
      "  ['B' 'B' 'B' 'C' 'C']]]\n"
     ]
    }
   ],
   "source": [
    "import numpy as np\n",
    "\n",
    "media = np.mean(array7)\n",
    "maximo = np.max(array7)\n",
    "minimo = np.min(array7)\n",
    "\n",
    "print(\"La media es:\", media)\n",
    "print(\"El valor maximo es:\", maximo)\n",
    "print(\"El valor minimo es:\", minimo)\n",
    "\n",
    "print(\"----------------------------------------\")\n",
    "\n",
    "array8 = np.where(array7 == maximo, \"D\",\n",
    "         np.where(array7 == minimo, \"E\",\n",
    "         np.where(array7 > media, \"B\",\n",
    "         np.where(array7 < media, \"C\",\n",
    "         np.where(array7 == media, \"A\", \"\")))))\n",
    "\n",
    "print(f\"El nuevo array es:\\n\", array8)"
   ]
  }
 ],
 "metadata": {
  "kernelspec": {
   "display_name": "base",
   "language": "python",
   "name": "python3"
  },
  "language_info": {
   "codemirror_mode": {
    "name": "ipython",
    "version": 3
   },
   "file_extension": ".py",
   "mimetype": "text/x-python",
   "name": "python",
   "nbconvert_exporter": "python",
   "pygments_lexer": "ipython3",
   "version": "3.9.7"
  }
 },
 "nbformat": 4,
 "nbformat_minor": 2
}
